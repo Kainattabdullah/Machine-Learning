{
  "cells": [
    {
      "cell_type": "markdown",
      "source": [
        "# Neural Networks"
      ],
      "metadata": {
        "id": "8rxJ9UDakaRA"
      }
    },
    {
      "cell_type": "code",
      "source": [
        "import numpy as np\n",
        "from scipy.stats import truncnorm\n",
        "\n",
        "input_nodes = 3\n",
        "hidden_nodes = 4\n",
        "output_nodes = 2\n",
        "\n",
        "# Truncated normal distribution parameters\n",
        "mean = 0\n",
        "sd = 1\n",
        "low = -2\n",
        "upp = 2\n",
        "\n",
        "# Initialize input to hidden weights\n",
        "wih = truncnorm((low - mean) / sd, (upp - mean) / sd).rvs((hidden_nodes, input_nodes))\n",
        "\n",
        "# Initialize hidden to output weights\n",
        "who = truncnorm((low - mean) / sd, (upp - mean) / sd).rvs((output_nodes, hidden_nodes))\n",
        "\n",
        "print(\"Input to Hidden Weights: \\n\", wih)\n",
        "print()\n",
        "print(\"Hidden to Output Weights: \\n\", who)"
      ],
      "outputs": [
        {
          "output_type": "stream",
          "name": "stdout",
          "text": "Input to Hidden Weights: \n [[ 0.08005081  0.08486845 -0.72535541]\n [ 0.15232666  0.34528325 -1.07859335]\n [ 0.86802897 -1.26532246  1.58955229]\n [ 1.26855624  0.11144716  0.32902287]]\n\nHidden to Output Weights: \n [[-0.64069165 -0.39277357 -0.13934835  0.99148128]\n [ 0.16690903 -0.3098933  -0.45575973 -0.4476886 ]]\n"
        }
      ],
      "execution_count": 6,
      "metadata": {
        "colab": {
          "base_uri": "https://localhost:8080/"
        },
        "id": "xxH3mhWvobJP",
        "outputId": "697bfccf-fbe0-4e18-9bef-8e36cba86ab3"
      }
    },
    {
      "cell_type": "markdown",
      "source": [
        "# MLP Classifier"
      ],
      "metadata": {
        "id": "ZhVfSIabpOq8"
      }
    },
    {
      "cell_type": "code",
      "source": [
        "from sklearn.neural_network import MLPClassifier\n",
        "\n",
        "X = [[0., 0.], [0., 1.], [1., 0.], [1., 1.]]\n",
        "y = [0, 0, 0, 1]\n",
        "\n",
        "clf = MLPClassifier(solver=\"adam\", alpha=1e-5,\n",
        "                    hidden_layer_sizes=(5, 2),\n",
        "                    random_state=1)\n",
        "\n",
        "print(clf.fit(X, y))\n",
        "print(clf.coefs_[0])\n",
        "print(\"\\nweights between first hidden and second hidden layer: \")\n",
        "print(clf.coefs_[1])"
      ],
      "outputs": [
        {
          "output_type": "stream",
          "name": "stdout",
          "text": "MLPClassifier(alpha=1e-05, hidden_layer_sizes=(5, 2), random_state=1)\n[[-0.02896066  0.27747106 -0.73827919 -0.52804456 -0.47211108]\n [-0.57042845 -0.77491524 -0.12764227 -0.34924161  0.00092499]]\n\nweights between first hidden and second hidden layer: \n[[ 0.15339756 -0.02866374]\n [ 0.30293892 -0.4835794 ]\n [-0.38016099  0.37810687]\n [ 1.05575587 -0.17994371]\n [ 0.18954492  0.5138406 ]]\n"
        },
        {
          "output_type": "stream",
          "name": "stderr",
          "text": "/usr/local/lib/python3.10/dist-packages/sklearn/neural_network/_multilayer_perceptron.py:686: ConvergenceWarning: Stochastic Optimizer: Maximum iterations (200) reached and the optimization hasn't converged yet.\n  warnings.warn(\n"
        }
      ],
      "execution_count": 7,
      "metadata": {
        "colab": {
          "base_uri": "https://localhost:8080/"
        },
        "id": "xbAKTeTcqt-U",
        "outputId": "716d9a63-10ef-4152-a9b2-7748e1fa2392"
      }
    },
    {
      "cell_type": "markdown",
      "source": [
        "### Load Dataset"
      ],
      "metadata": {
        "id": "08V_-4whwrOD"
      }
    },
    {
      "cell_type": "code",
      "source": [
        "from sklearn.datasets import load_digits\n",
        "digits = load_digits()\n",
        "n_samples, n_features = digits.data.shape\n",
        "print((n_samples, n_features))"
      ],
      "outputs": [
        {
          "output_type": "stream",
          "name": "stdout",
          "text": "(1797, 64)\n"
        }
      ],
      "execution_count": 17,
      "metadata": {
        "colab": {
          "base_uri": "https://localhost:8080/"
        },
        "id": "7x3a65HWtII-",
        "outputId": "811ae0dd-8ea3-4e34-f25b-b83facc5ffe2"
      }
    },
    {
      "cell_type": "markdown",
      "source": [
        "### Show Data"
      ],
      "metadata": {
        "id": "Lcv26YSYwnOK"
      }
    },
    {
      "cell_type": "code",
      "source": [
        "import matplotlib.pyplot as plt\n",
        "# Setup the figure\n",
        "fig = plt.figure(figsize=(6, 6))\n",
        "fig.subplots_adjust(left=0, right=1,\n",
        "                    bottom=0, top=1,\n",
        "                    hspace=0.05, wspace=0.05)\n",
        "# Plot the digits\n",
        "for i in range(144):\n",
        "  ax = fig.add_subplot(12, 12, i+1, xticks=[], yticks=[])\n",
        "  ax.imshow(digits.images[i])"
      ],
      "outputs": [
        {
          "output_type": "display_data",
          "data": {
            "text/plain": "<Figure size 600x600 with 144 Axes>",
            "image/png": "[encoded data removed]"
          },
          "metadata": {}
        }
      ],
      "execution_count": 20,
      "metadata": {
        "colab": {
          "base_uri": "https://localhost:8080/",
          "height": 637
        },
        "id": "VO8u3mYetol1",
        "outputId": "bf5d7fab-9bf4-4393-99ce-988e8fd51adf"
      }
    },
    {
      "cell_type": "markdown",
      "source": [
        "### Perform 80-20 % split"
      ],
      "metadata": {
        "id": "4nUVcA_3uwk2"
      }
    },
    {
      "cell_type": "code",
      "source": [
        "from sklearn.model_selection import train_test_split\n",
        "\n",
        "train_data, test_data, train_labels, test_labels = train_test_split(digits.data,\n",
        "                                                                    digits.target,\n",
        "                                                                    train_size=0.8,\n",
        "                                                                    test_size=0.2,\n",
        "                                                                    random_state=1)"
      ],
      "outputs": [],
      "execution_count": 21,
      "metadata": {
        "id": "BgkuVX52wKH8"
      }
    },
    {
      "cell_type": "markdown",
      "source": [
        "### Network"
      ],
      "metadata": {
        "id": "jafmGVE1wjw7"
      }
    },
    {
      "cell_type": "code",
      "source": [
        "from sklearn.neural_network import MLPClassifier\n",
        "\n",
        "mlp = MLPClassifier(hidden_layer_sizes=(5,),\n",
        "                    activation = \"logistic\",\n",
        "                    alpha = 1e-4,\n",
        "                    solver = \"sgd\",\n",
        "                    tol = 1e-4,\n",
        "                    random_state = 1,\n",
        "                    learning_rate_init = .3,\n",
        "                    verbose = True)\n",
        "mlp.fit(train_data, train_labels)"
      ],
      "outputs": [
        {
          "output_type": "stream",
          "name": "stdout",
          "text": "Iteration 1, loss = 2.25145782\nIteration 2, loss = 1.97730357\nIteration 3, loss = 1.66620880\nIteration 4, loss = 1.41353830\nIteration 5, loss = 1.29575643\nIteration 6, loss = 1.06663583\nIteration 7, loss = 0.95476869\nIteration 8, loss = 0.98840135\nIteration 9, loss = 0.85124323\nIteration 10, loss = 0.75499271\nIteration 11, loss = 0.80608405\nIteration 12, loss = 0.72358116\nIteration 13, loss = 0.68370817\nIteration 14, loss = 0.78455371\nIteration 15, loss = 0.71477343\nIteration 16, loss = 0.66806356\nIteration 17, loss = 0.81050074\nIteration 18, loss = 0.68337671\nIteration 19, loss = 0.74931776\nIteration 20, loss = 0.66185255\nIteration 21, loss = 0.77614665\nIteration 22, loss = 0.69448062\nIteration 23, loss = 0.70176765\nIteration 24, loss = 0.76440970\nIteration 25, loss = 0.70033401\nIteration 26, loss = 0.65138383\nIteration 27, loss = 0.59872788\nIteration 28, loss = 0.57207818\nIteration 29, loss = 0.62176226\nIteration 30, loss = 0.58669984\nIteration 31, loss = 0.54031128\nIteration 32, loss = 0.55410363\nIteration 33, loss = 0.73488739\nIteration 34, loss = 0.58163636\nIteration 35, loss = 0.54206731\nIteration 36, loss = 0.53337171\nIteration 37, loss = 0.56578966\nIteration 38, loss = 0.57928557\nIteration 39, loss = 0.51852620\nIteration 40, loss = 0.53174539\nIteration 41, loss = 0.53587869\nIteration 42, loss = 0.52869662\nIteration 43, loss = 0.56186676\nIteration 44, loss = 0.62035139\nIteration 45, loss = 0.58068990\nIteration 46, loss = 0.55007102\nIteration 47, loss = 0.52758831\nIteration 48, loss = 0.57442797\nIteration 49, loss = 0.54783549\nIteration 50, loss = 0.52590142\nTraining loss did not improve more than tol=0.000100 for 10 consecutive epochs. Stopping.\n"
        },
        {
          "output_type": "execute_result",
          "execution_count": 36,
          "data": {
            "text/plain": "MLPClassifier(activation='logistic', hidden_layer_sizes=(5,),\n              learning_rate_init=0.3, random_state=1, solver='sgd',\n              verbose=True)",
            "text/html": "<style>#sk-container-id-9 {color: black;background-color: white;}#sk-container-id-9 pre{padding: 0;}#sk-container-id-9 div.sk-toggleable {background-color: white;}#sk-container-id-9 label.sk-toggleable__label {cursor: pointer;display: block;width: 100%;margin-bottom: 0;padding: 0.3em;box-sizing: border-box;text-align: center;}#sk-container-id-9 label.sk-toggleable__label-arrow:before {content: \"▸\";float: left;margin-right: 0.25em;color: #696969;}#sk-container-id-9 label.sk-toggleable__label-arrow:hover:before {color: black;}#sk-container-id-9 div.sk-estimator:hover label.sk-toggleable__label-arrow:before {color: black;}#sk-container-id-9 div.sk-toggleable__content {max-height: 0;max-width: 0;overflow: hidden;text-align: left;background-color: #f0f8ff;}#sk-container-id-9 div.sk-toggleable__content pre {margin: 0.2em;color: black;border-radius: 0.25em;background-color: #f0f8ff;}#sk-container-id-9 input.sk-toggleable__control:checked~div.sk-toggleable__content {max-height: 200px;max-width: 100%;overflow: auto;}#sk-container-id-9 input.sk-toggleable__control:checked~label.sk-toggleable__label-arrow:before {content: \"▾\";}#sk-container-id-9 div.sk-estimator input.sk-toggleable__control:checked~label.sk-toggleable__label {background-color: #d4ebff;}#sk-container-id-9 div.sk-label input.sk-toggleable__control:checked~label.sk-toggleable__label {background-color: #d4ebff;}#sk-container-id-9 input.sk-hidden--visually {border: 0;clip: rect(1px 1px 1px 1px);clip: rect(1px, 1px, 1px, 1px);height: 1px;margin: -1px;overflow: hidden;padding: 0;position: absolute;width: 1px;}#sk-container-id-9 div.sk-estimator {font-family: monospace;background-color: #f0f8ff;border: 1px dotted black;border-radius: 0.25em;box-sizing: border-box;margin-bottom: 0.5em;}#sk-container-id-9 div.sk-estimator:hover {background-color: #d4ebff;}#sk-container-id-9 div.sk-parallel-item::after {content: \"\";width: 100%;border-bottom: 1px solid gray;flex-grow: 1;}#sk-container-id-9 div.sk-label:hover label.sk-toggleable__label {background-color: #d4ebff;}#sk-container-id-9 div.sk-serial::before {content: \"\";position: absolute;border-left: 1px solid gray;box-sizing: border-box;top: 0;bottom: 0;left: 50%;z-index: 0;}#sk-container-id-9 div.sk-serial {display: flex;flex-direction: column;align-items: center;background-color: white;padding-right: 0.2em;padding-left: 0.2em;position: relative;}#sk-container-id-9 div.sk-item {position: relative;z-index: 1;}#sk-container-id-9 div.sk-parallel {display: flex;align-items: stretch;justify-content: center;background-color: white;position: relative;}#sk-container-id-9 div.sk-item::before, #sk-container-id-9 div.sk-parallel-item::before {content: \"\";position: absolute;border-left: 1px solid gray;box-sizing: border-box;top: 0;bottom: 0;left: 50%;z-index: -1;}#sk-container-id-9 div.sk-parallel-item {display: flex;flex-direction: column;z-index: 1;position: relative;background-color: white;}#sk-container-id-9 div.sk-parallel-item:first-child::after {align-self: flex-end;width: 50%;}#sk-container-id-9 div.sk-parallel-item:last-child::after {align-self: flex-start;width: 50%;}#sk-container-id-9 div.sk-parallel-item:only-child::after {width: 0;}#sk-container-id-9 div.sk-dashed-wrapped {border: 1px dashed gray;margin: 0 0.4em 0.5em 0.4em;box-sizing: border-box;padding-bottom: 0.4em;background-color: white;}#sk-container-id-9 div.sk-label label {font-family: monospace;font-weight: bold;display: inline-block;line-height: 1.2em;}#sk-container-id-9 div.sk-label-container {text-align: center;}#sk-container-id-9 div.sk-container {/* jupyter's `normalize.less` sets `[hidden] { display: none; }` but bootstrap.min.css set `[hidden] { display: none !important; }` so we also need the `!important` here to be able to override the default hidden behavior on the sphinx rendered scikit-learn.org. See: https://github.com/scikit-learn/scikit-learn/issues/21755 */display: inline-block !important;position: relative;}#sk-container-id-9 div.sk-text-repr-fallback {display: none;}</style><div id=\"sk-container-id-9\" class=\"sk-top-container\"><div class=\"sk-text-repr-fallback\"><pre>MLPClassifier(activation=&#x27;logistic&#x27;, hidden_layer_sizes=(5,),\n              learning_rate_init=0.3, random_state=1, solver=&#x27;sgd&#x27;,\n              verbose=True)</pre><b>In a Jupyter environment, please rerun this cell to show the HTML representation or trust the notebook. <br />On GitHub, the HTML representation is unable to render, please try loading this page with nbviewer.org.</b></div><div class=\"sk-container\" hidden><div class=\"sk-item\"><div class=\"sk-estimator sk-toggleable\"><input class=\"sk-toggleable__control sk-hidden--visually\" id=\"sk-estimator-id-9\" type=\"checkbox\" checked><label for=\"sk-estimator-id-9\" class=\"sk-toggleable__label sk-toggleable__label-arrow\">MLPClassifier</label><div class=\"sk-toggleable__content\"><pre>MLPClassifier(activation=&#x27;logistic&#x27;, hidden_layer_sizes=(5,),\n              learning_rate_init=0.3, random_state=1, solver=&#x27;sgd&#x27;,\n              verbose=True)</pre></div></div></div></div></div>"
          },
          "metadata": {}
        }
      ],
      "execution_count": 36,
      "metadata": {
        "colab": {
          "base_uri": "https://localhost:8080/",
          "height": 994
        },
        "id": "Frv-iEhgxNA2",
        "outputId": "47d88ac5-ec34-4174-f9cb-335b35c726e7"
      }
    },
    {
      "cell_type": "markdown",
      "source": [
        "### Accuracy on training and test data"
      ],
      "metadata": {
        "id": "WO4wbMprx_Bz"
      }
    },
    {
      "cell_type": "code",
      "source": [
        "from sklearn.metrics import accuracy_score\n",
        "\n",
        "predictions_train = mlp.predict(train_data)\n",
        "print(\"Accuracy on train data: \", accuracy_score(predictions_train, train_labels))\n",
        "\n",
        "predictions_test = mlp.predict(test_data)\n",
        "print(\"Accuracy on test data: \", accuracy_score(predictions_test, test_labels))"
      ],
      "outputs": [
        {
          "output_type": "stream",
          "name": "stdout",
          "text": "Accuracy on train data:  0.8740431454418929\nAccuracy on test data:  0.8194444444444444\n"
        }
      ],
      "execution_count": 37,
      "metadata": {
        "colab": {
          "base_uri": "https://localhost:8080/"
        },
        "id": "omkpLp9PykRr",
        "outputId": "34c84b93-7494-441f-8cf4-e8e140dee9f7"
      }
    },
    {
      "cell_type": "markdown",
      "source": [
        "### Confusion tables on training and test data"
      ],
      "metadata": {
        "id": "TdLW0iLYzDMS"
      }
    },
    {
      "cell_type": "code",
      "source": [
        "from sklearn.metrics import confusion_matrix\n",
        "\n",
        "c1 = confusion_matrix(predictions_train, train_labels)\n",
        "c2 = confusion_matrix(predictions_test, test_labels)\n",
        "\n",
        "print(\"Confusion Matrix 1 = \\n\", c1 )\n",
        "print()\n",
        "print(\"Confusion Matrix 2 = \\n\", c2)"
      ],
      "outputs": [
        {
          "output_type": "stream",
          "name": "stdout",
          "text": "Confusion Matrix 1 = \n [[130   0   0   0   0   2   0   0   0   0]\n [  0 121   0   4  20   0   5  14  20   2]\n [  0   0 131   4   0   0   1   0   0   0]\n [  0   1   4 126   0   0   0   2   5   2]\n [  0   0   0   0 118   1   0   1   2   3]\n [  0   1   0   0   4 143   6   1   0   0]\n [  0  17   0   0   0   3 132   0   0   0]\n [  0   6   0   0   1   1   0 123   0  23]\n [  0   1   4   0   0   0   0   0 117   1]\n [  5   0   2   8   0   2   0   1   1 115]]\n\nConfusion Matrix 2 = \n [[39  0  0  0  0  0  0  0  0  1]\n [ 0 25  0  2  3  3  2  4  4  0]\n [ 0  0 29  2  0  1  0  0  0  0]\n [ 0  0  2 35  0  0  0  0  0  1]\n [ 2  0  0  0 34  1  0  0  0  1]\n [ 0  0  0  0  1 22  1  0  0  1]\n [ 0  7  0  0  0  2 34  0  0  0]\n [ 0  2  0  0  0  1  0 33  2  7]\n [ 0  1  3  0  0  0  0  0 22  1]\n [ 2  0  2  2  0  0  0  0  1 22]]\n"
        }
      ],
      "execution_count": 38,
      "metadata": {
        "colab": {
          "base_uri": "https://localhost:8080/"
        },
        "id": "3FOGrdoo0BSH",
        "outputId": "5daec652-24c5-42ff-daa6-04d599cb497a"
      }
    },
    {
      "cell_type": "markdown",
      "source": [
        "### Classification Report"
      ],
      "metadata": {
        "id": "VDslILdF0mOF"
      }
    },
    {
      "cell_type": "code",
      "source": [
        "from sklearn.metrics import classification_report\n",
        "\n",
        "print(classification_report(predictions_test, test_labels))"
      ],
      "outputs": [
        {
          "output_type": "stream",
          "name": "stdout",
          "text": "              precision    recall  f1-score   support\n\n           0       0.91      0.97      0.94        40\n           1       0.71      0.58      0.64        43\n           2       0.81      0.91      0.85        32\n           3       0.85      0.92      0.89        38\n           4       0.89      0.89      0.89        38\n           5       0.73      0.88      0.80        25\n           6       0.92      0.79      0.85        43\n           7       0.89      0.73      0.80        45\n           8       0.76      0.81      0.79        27\n           9       0.65      0.76      0.70        29\n\n    accuracy                           0.82       360\n   macro avg       0.81      0.83      0.82       360\nweighted avg       0.82      0.82      0.82       360\n\n"
        }
      ],
      "execution_count": 39,
      "metadata": {
        "colab": {
          "base_uri": "https://localhost:8080/"
        },
        "id": "JujDKQEB1WWI",
        "outputId": "a339a279-580c-4e9b-dd1c-edbc2582e527"
      }
    },
    {
      "cell_type": "code",
      "source": [],
      "outputs": [],
      "execution_count": null,
      "metadata": {
        "id": "cSXuCxeM1neY"
      }
    }
  ],
  "metadata": {
    "colab": {
      "provenance": []
    },
    "kernelspec": {
      "name": "python",
      "language": "python",
      "display_name": "Pyolite (preview)"
    },
    "language_info": {
      "codemirror_mode": {
        "name": "python",
        "version": 3
      },
      "file_extension": ".py",
      "mimetype": "text/x-python",
      "name": "python",
      "nbconvert_exporter": "python",
      "pygments_lexer": "ipython3",
      "version": "3.8"
    },
    "kernel_info": {
      "name": "python"
    },
    "nteract": {
      "version": "nteract-front-end@1.0.0"
    }
  },
  "nbformat": 4,
  "nbformat_minor": 0
}