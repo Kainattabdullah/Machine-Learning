{
  "cells": [
    {
      "cell_type": "markdown",
      "source": [
        "# Softmax Function"
      ],
      "metadata": {
        "id": "ke-cEsz6qmIo"
      }
    },
    {
      "cell_type": "code",
      "source": [
        "from sklearn import datasets\n",
        "from sklearn.linear_model import LogisticRegression\n",
        "iris = datasets.load_iris()\n",
        "X = iris[\"data\"][:, (2, 3)] # petal length, petal width\n",
        "y = iris[\"target\"]\n",
        "softmax_reg = LogisticRegression(multi_class=\"multinomial\",solver=\"lbfgs\", C=10)\n",
        "softmax_reg.fit(X, y)\n",
        "print(softmax_reg.predict([[5, 2]]))\n",
        "print(softmax_reg.predict_proba([[5, 2]]))\n"
      ],
      "outputs": [
        {
          "output_type": "stream",
          "name": "stdout",
          "text": "[2]\n[[6.38014896e-07 5.74929995e-02 9.42506362e-01]]\n"
        }
      ],
      "execution_count": null,
      "metadata": {
        "colab": {
          "base_uri": "https://localhost:8080/"
        },
        "id": "1FJiwQjvreyQ",
        "outputId": "ab837c9b-ad89-48d9-c54b-09f7f6abcd08"
      }
    },
    {
      "cell_type": "markdown",
      "source": [
        "# Holdout Method"
      ],
      "metadata": {
        "id": "VP4iK-Gar0dd"
      }
    },
    {
      "cell_type": "code",
      "source": [
        "# Split the data into a training and a testing set UCI Zoo Data 101 examples\n",
        "import pandas as pd\n",
        "from sklearn.tree import DecisionTreeClassifier\n",
        "\n",
        "# Load the dataset\n",
        "url = 'http://archive.ics.uci.edu/ml/machine-learning-databases/zoo/zoo.data'\n",
        "dataset = pd.read_csv(url, header=None)\n",
        "\n",
        "# Split the data into training and testing sets\n",
        "train_features = dataset.iloc[:80, 1:-1]  # Exclude the first column (animal names)\n",
        "test_features = dataset.iloc[80:, 1:-1]  # Exclude the first column (animal names)\n",
        "train_targets = dataset.iloc[:80, -1]\n",
        "test_targets = dataset.iloc[80:, -1]\n",
        "\n",
        "# Train the model\n",
        "tree = DecisionTreeClassifier(criterion='entropy')\n",
        "tree.fit(train_features, train_targets)\n",
        "\n",
        "# Predict the classes of new, unseen data\n",
        "prediction = tree.predict(test_features)\n",
        "\n",
        "# Check the accuracy\n",
        "accuracy = tree.score(test_features, test_targets)\n",
        "print(\"The prediction accuracy is:\", accuracy * 100, \"%\")"
      ],
      "outputs": [
        {
          "output_type": "stream",
          "name": "stdout",
          "text": "The prediction accuracy is: 80.95238095238095 %\n"
        }
      ],
      "execution_count": null,
      "metadata": {
        "colab": {
          "base_uri": "https://localhost:8080/"
        },
        "id": "yXoRWdskr-l3",
        "outputId": "9f6f7715-9984-4ff5-e365-03f4f9be36a2"
      }
    },
    {
      "cell_type": "markdown",
      "source": [
        "# K-Fold Cross Validation"
      ],
      "metadata": {
        "id": "8psdiYodsefd"
      }
    },
    {
      "cell_type": "code",
      "source": [
        "from sklearn.datasets import load_digits\n",
        "\n",
        "#Loading\n",
        "mnist=load_digits()\n",
        "X, y = mnist[\"data\"], mnist[\"target\"]\n",
        "print(X.shape,y.shape)\n",
        "\n",
        "%matplotlib inline\n",
        "import matplotlib\n",
        "import matplotlib.pyplot as plt\n",
        "\n",
        "some_digit = X[360]\n",
        "some_digit_image = some_digit.reshape(8,8)\n",
        "plt.imshow(some_digit_image, cmap = matplotlib.cm.binary)\n",
        "plt.show()\n",
        "y[360]\n",
        "X_train, X_test, y_train, y_test = X[:1300], X[1300:], y[:1300], y[1300:]\n",
        "print(X_train.shape,y_train.shape)\n",
        "\n",
        "from sklearn.linear_model import SGDClassifier\n",
        "# True for all 6s, False for all other digits.\n",
        "y_train_6 = (y_train == 6)\n",
        "y_test_6 = (y_test == 6)"
      ],
      "outputs": [
        {
          "output_type": "stream",
          "name": "stdout",
          "text": "(1797, 64) (1797,)\n"
        },
        {
          "output_type": "display_data",
          "data": {
            "text/plain": "<Figure size 640x480 with 1 Axes>",
            "image/png": "[encoded data removed]"
          },
          "metadata": {}
        },
        {
          "output_type": "stream",
          "name": "stdout",
          "text": "(1300, 64) (1300,)\n"
        }
      ],
      "execution_count": null,
      "metadata": {
        "colab": {
          "base_uri": "https://localhost:8080/",
          "height": 465
        },
        "id": "kOdA7juOsnvG",
        "outputId": "4930c5ae-73c2-40cc-b0ab-61aa91a6d41d"
      }
    },
    {
      "cell_type": "code",
      "source": [
        "from sklearn.linear_model import SGDClassifier\n",
        "\n",
        "sgd_clf = SGDClassifier(random_state=42)\n",
        "sgd_clf.fit(X_train, y_train_6)\n",
        "sgd_clf.predict([some_digit])\n",
        "\n",
        "from sklearn.model_selection import cross_val_score\n",
        "\n",
        "cross_val_score(sgd_clf, X_train, y_train_6, cv=3, scoring=\"accuracy\")"
      ],
      "outputs": [
        {
          "output_type": "execute_result",
          "execution_count": 5,
          "data": {
            "text/plain": "array([0.99308756, 0.98152425, 0.98383372])"
          },
          "metadata": {}
        }
      ],
      "execution_count": null,
      "metadata": {
        "colab": {
          "base_uri": "https://localhost:8080/"
        },
        "id": "bxWoSIIxtp-6",
        "outputId": "0b616378-62d7-406b-8e85-635bb600157c"
      }
    },
    {
      "cell_type": "code",
      "source": [
        "from sklearn.model_selection import StratifiedKFold\n",
        "from sklearn.base import clone\n",
        "skfolds = StratifiedKFold(n_splits=3)\n",
        "for train_index, test_index in skfolds.split(X_train, y_train_6):\n",
        "  clone_clf = clone(sgd_clf)\n",
        "  X_train_folds = X_train[train_index]\n",
        "  y_train_folds = y_train_6[train_index]\n",
        "  X_test_fold = X_train[test_index]\n",
        "  y_test_fold = y_train_6[test_index]\n",
        "  clone_clf.fit(X_train_folds, y_train_folds)\n",
        "  y_pred = clone_clf.predict(X_test_fold)\n",
        "  n_correct = sum(y_pred == y_test_fold)\n",
        "  print(n_correct / len(y_pred))"
      ],
      "outputs": [
        {
          "output_type": "stream",
          "name": "stdout",
          "text": "0.9930875576036866\n0.9815242494226328\n0.9838337182448037\n"
        }
      ],
      "execution_count": null,
      "metadata": {
        "colab": {
          "base_uri": "https://localhost:8080/"
        },
        "id": "uEVddMJLuFzr",
        "outputId": "80fe75fa-e01f-4c71-f9ac-0963f066d69a"
      }
    },
    {
      "cell_type": "markdown",
      "source": [
        "# Is Accuracy a good Measure ?"
      ],
      "metadata": {
        "id": "DQIAl9vnuszt"
      }
    },
    {
      "cell_type": "code",
      "source": [
        "import numpy as np\n",
        "from sklearn.datasets import make_classification\n",
        "from sklearn.model_selection import cross_val_score\n",
        "from sklearn.linear_model import LogisticRegression\n",
        "from sklearn.metrics import accuracy_score, precision_score, recall_score"
      ],
      "outputs": [],
      "execution_count": null,
      "metadata": {
        "id": "0tguD3hnuy4w"
      }
    },
    {
      "cell_type": "code",
      "source": [
        "X, y = make_classification(n_samples=100, n_features=10, random_state=42)\n",
        "logistic_clf = LogisticRegression()\n",
        "# Evaluate using accuracy, precision, and recall\n",
        "accuracy = cross_val_score(logistic_clf, X, y, cv=3, scoring=\"accuracy\")\n",
        "precision = cross_val_score(logistic_clf, X, y, cv=3, scoring=\"precision\")\n",
        "recall = cross_val_score(logistic_clf, X, y, cv=3, scoring=\"recall\")\n",
        "print(\"Accuracy scores:\", accuracy)\n",
        "print(\"Precision scores:\", precision)\n",
        "print(\"Recall scores:\", recall)"
      ],
      "outputs": [
        {
          "output_type": "stream",
          "name": "stdout",
          "text": "Accuracy scores: [0.97058824 0.90909091 0.96969697]\nPrecision scores: [0.94444444 0.9375     0.94117647]\nRecall scores: [1.         0.88235294 1.        ]\n"
        }
      ],
      "execution_count": null,
      "metadata": {
        "colab": {
          "base_uri": "https://localhost:8080/"
        },
        "id": "KKc8XG6pvNUu",
        "outputId": "6ffbfe62-843d-45e6-d619-88f424866b56"
      }
    }
  ],
  "metadata": {
    "colab": {
      "provenance": []
    },
    "kernelspec": {
      "name": "python",
      "language": "python",
      "display_name": "Pyolite (preview)"
    },
    "language_info": {
      "codemirror_mode": {
        "name": "python",
        "version": 3
      },
      "file_extension": ".py",
      "mimetype": "text/x-python",
      "name": "python",
      "nbconvert_exporter": "python",
      "pygments_lexer": "ipython3",
      "version": "3.8"
    },
    "kernel_info": {
      "name": "python"
    },
    "nteract": {
      "version": "nteract-front-end@1.0.0"
    }
  },
  "nbformat": 4,
  "nbformat_minor": 0
}